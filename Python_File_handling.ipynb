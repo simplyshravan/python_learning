{
 "cells": [
  {
   "cell_type": "code",
   "execution_count": 1,
   "metadata": {},
   "outputs": [
    {
     "name": "stdout",
     "output_type": "stream",
     "text": [
      "Hello\n",
      "\n",
      "bye\n",
      "\n",
      "hi\n",
      "\n",
      "python\n",
      "\n",
      "session\n"
     ]
    }
   ],
   "source": [
    "file='myfile.txt'\n",
    "fopen=open(file)\n",
    "for i in fopen:\n",
    "    print(i)"
   ]
  },
  {
   "cell_type": "code",
   "execution_count": 4,
   "metadata": {},
   "outputs": [
    {
     "name": "stdout",
     "output_type": "stream",
     "text": [
      "Hello\n",
      " Shravan\n",
      "bye\n",
      " Shravan\n",
      "hi\n",
      " Shravan\n",
      "python\n",
      " Shravan\n",
      "session Shravan\n"
     ]
    }
   ],
   "source": [
    "for i in open('myfile.txt'):\n",
    "    print(i+\" Shravan\")"
   ]
  },
  {
   "cell_type": "code",
   "execution_count": 23,
   "metadata": {},
   "outputs": [],
   "source": [
    "dcreate=open('myfile4.txt','w')\n",
    "dcreate.write('\\nHi this is python session')\n",
    "dcreate.close()"
   ]
  },
  {
   "cell_type": "code",
   "execution_count": 61,
   "metadata": {},
   "outputs": [],
   "source": [
    "import csv,json,xml\n",
    "file1=open(\"customer3.csv\")"
   ]
  },
  {
   "cell_type": "code",
   "execution_count": 62,
   "metadata": {},
   "outputs": [],
   "source": [
    "reader = csv.DictReader(file1,delimiter='|')\n",
    "field = reader.fieldnames"
   ]
  },
  {
   "cell_type": "code",
   "execution_count": 54,
   "metadata": {},
   "outputs": [
    {
     "name": "stdout",
     "output_type": "stream",
     "text": [
      "['id', 'sex', 'tier', 'lastcontact', 'pets', 'attr1', 'attr2']\n"
     ]
    }
   ],
   "source": [
    "print(field)"
   ]
  },
  {
   "cell_type": "code",
   "execution_count": 59,
   "metadata": {
    "scrolled": true
   },
   "outputs": [
    {
     "name": "stdout",
     "output_type": "stream",
     "text": [
      "['4903g34', '0', 'platinum', '1/24/2018', '0', 'minivan', '+1 569-483-2388\\n']\n",
      "['48982nf', '0', 'red', '1/12/2018', '1', 'car', '+1 555-555-1212\\n']\n",
      "['an2944a', '1', 'gold', '2/17/2018', '1', 'pickuptruck', '+1 432-867-5309\\n']\n",
      "['jh41922', '1', 'blue', '11/4/2017', '0', 'Car', '+1 716-873-9837\\n']\n"
     ]
    }
   ],
   "source": [
    "for i in file1:\n",
    "    print(list(i.split('|')))"
   ]
  },
  {
   "cell_type": "code",
   "execution_count": 63,
   "metadata": {},
   "outputs": [
    {
     "name": "stdout",
     "output_type": "stream",
     "text": [
      "platinum\n",
      "red\n",
      "gold\n",
      "blue\n"
     ]
    }
   ],
   "source": [
    "for i in reader:\n",
    "    print(i['tier'])"
   ]
  },
  {
   "cell_type": "code",
   "execution_count": null,
   "metadata": {},
   "outputs": [],
   "source": []
  }
 ],
 "metadata": {
  "kernelspec": {
   "display_name": "Python 3",
   "language": "python",
   "name": "python3"
  },
  "language_info": {
   "codemirror_mode": {
    "name": "ipython",
    "version": 3
   },
   "file_extension": ".py",
   "mimetype": "text/x-python",
   "name": "python",
   "nbconvert_exporter": "python",
   "pygments_lexer": "ipython3",
   "version": "3.7.1"
  }
 },
 "nbformat": 4,
 "nbformat_minor": 2
}
